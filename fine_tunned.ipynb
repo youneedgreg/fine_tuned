{
 "cells": [
  {
   "cell_type": "markdown",
   "id": "2265ec12-070e-440a-8cd4-2b233b777664",
   "metadata": {},
   "source": [
    "Transfer Learning and Fine-Tuning with TensorFlow\n",
    "\n",
    "Step 1: Import libraries\n"
   ]
  },
  {
   "cell_type": "code",
   "execution_count": 1,
   "id": "a07d5e88-e159-499d-915c-f988f2f5c37d",
   "metadata": {},
   "outputs": [
    {
     "name": "stdout",
     "output_type": "stream",
     "text": [
      "TensorFlow version: 2.19.0\n"
     ]
    }
   ],
   "source": [
    "import tensorflow as tf\n",
    "import numpy as np\n",
    "import matplotlib.pyplot as plt\n",
    "import os\n",
    "import datetime\n",
    "\n",
    "print(\"TensorFlow version:\", tf.__version__)"
   ]
  },
  {
   "cell_type": "markdown",
   "id": "995626ae",
   "metadata": {},
   "source": [
    "Step 2: Download and prepare the dataset"
   ]
  },
  {
   "cell_type": "code",
   "execution_count": 2,
   "id": "f746bbc2",
   "metadata": {},
   "outputs": [],
   "source": [
    "import os\n",
    "import zipfile\n",
    "import pathlib"
   ]
  },
  {
   "cell_type": "markdown",
   "id": "cad2c20a",
   "metadata": {},
   "source": [
    "Check if dataset directory already exists"
   ]
  }
 ],
 "metadata": {
  "kernelspec": {
   "display_name": "Python 3 (ipykernel)",
   "language": "python",
   "name": "python3"
  },
  "language_info": {
   "codemirror_mode": {
    "name": "ipython",
    "version": 3
   },
   "file_extension": ".py",
   "mimetype": "text/x-python",
   "name": "python",
   "nbconvert_exporter": "python",
   "pygments_lexer": "ipython3",
   "version": "3.12.3"
  }
 },
 "nbformat": 4,
 "nbformat_minor": 5
}
